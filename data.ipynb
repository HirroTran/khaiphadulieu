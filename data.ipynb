{
 "cells": [
  {
   "cell_type": "code",
   "execution_count": 3,
   "id": "260fa2bd",
   "metadata": {},
   "outputs": [],
   "source": [
    "import pandas as pd \n",
    "import numpy as np \n",
    "import random\n",
    "import math\n",
    "from datetime import datetime\n",
    "\n",
    "from sklearn.model_selection import train_test_split \n",
    "from sklearn.tree import DecisionTreeClassifier \n",
    "from sklearn.ensemble import RandomForestClassifier \n",
    "from sklearn import metrics \n",
    "\n",
    "import matplotlib.pyplot as plt"
   ]
  },
  {
   "cell_type": "code",
   "execution_count": 5,
   "id": "d957b232",
   "metadata": {},
   "outputs": [],
   "source": [
    "df1 = pd.read_csv('E:\\\\khai pha dl\\\\Data_mining-main\\\\Data_mining-main\\\\Data\\\\wine.csv')\n",
    "df2 = pd.read_csv('E:\\\\khai pha dl\\\\Data_mining-main\\\\Data_mining-main\\\\Data\\\\Brain.csv')\n",
    "df3 = pd.read_csv('E:\\\\khai pha dl\\\\Data_mining-main\\\\Data_mining-main\\\\Data\\\\Prostate.csv')"
   ]
  },
  {
   "cell_type": "code",
   "execution_count": 7,
   "id": "c4571589",
   "metadata": {},
   "outputs": [],
   "source": [
    "# select input and output data for model\n",
    "# wine\n",
    "X = df1.iloc[:,df1.columns !='class']\n",
    "r, c = df1.shape\n",
    "y = df1[['class']]"
   ]
  },
  {
   "cell_type": "code",
   "execution_count": 9,
   "id": "6503f92f",
   "metadata": {},
   "outputs": [],
   "source": [
    "def RandomForest(df, n):\n",
    "    X = df.iloc[:,df.columns !='class']\n",
    "    r, c = df.shape\n",
    "    y = df[['class']]\n",
    "\n",
    "    Train_x, Test_x, Train_y, Test_y = train_test_split(X,  y, \n",
    "                                                        stratify=y, \n",
    "                                                        test_size=0.3, \n",
    "                                                        random_state = 42)\n",
    "    \n",
    "    # Random Forest Classifier Algorithm\n",
    "    start = datetime.now()\n",
    "    rf_model = RandomForestClassifier(n_estimators = n, max_features= int(math.sqrt(c))+1)\n",
    "    rf_model.fit(Train_x,Train_y.values.ravel())\n",
    "    y_pred = rf_model.predict(Test_x)\n",
    "    end = datetime.now() - start\n",
    "    \n",
    "\n",
    "    acc_RF = metrics.accuracy_score(Test_y, y_pred)\n",
    "    print(\"Số lượng cây: \", n)\n",
    "    print(\"Độ chính xác của Random Forest: \", acc_RF)\n",
    "    print(\"Thời gian chạy: \", end)"
   ]
  },
  {
   "cell_type": "code",
   "execution_count": 10,
   "id": "4c109a25",
   "metadata": {},
   "outputs": [
    {
     "name": "stdout",
     "output_type": "stream",
     "text": [
      "Wine.csv: \n",
      "Số lượng cây:  10\n",
      "Độ chính xác của Random Forest:  0.9444444444444444\n",
      "Thời gian chạy:  0:00:00.022170\n",
      "Số lượng cây:  100\n",
      "Độ chính xác của Random Forest:  1.0\n",
      "Thời gian chạy:  0:00:00.142059\n",
      "Số lượng cây:  200\n",
      "Độ chính xác của Random Forest:  1.0\n",
      "Thời gian chạy:  0:00:00.305554\n",
      "Số lượng cây:  500\n",
      "Độ chính xác của Random Forest:  1.0\n",
      "Thời gian chạy:  0:00:00.722668\n",
      "Số lượng cây:  1000\n",
      "Độ chính xác của Random Forest:  1.0\n",
      "Thời gian chạy:  0:00:01.408927\n",
      "Brain.csv: \n",
      "Số lượng cây:  10\n",
      "Độ chính xác của Random Forest:  0.5384615384615384\n",
      "Thời gian chạy:  0:00:00.098796\n",
      "Số lượng cây:  100\n",
      "Độ chính xác của Random Forest:  0.7692307692307693\n",
      "Thời gian chạy:  0:00:00.250380\n",
      "Số lượng cây:  200\n",
      "Độ chính xác của Random Forest:  0.7692307692307693\n",
      "Thời gian chạy:  0:00:00.422845\n",
      "Số lượng cây:  500\n",
      "Độ chính xác của Random Forest:  0.7692307692307693\n",
      "Thời gian chạy:  0:00:00.979762\n",
      "Số lượng cây:  1000\n",
      "Độ chính xác của Random Forest:  0.7692307692307693\n",
      "Thời gian chạy:  0:00:01.849616\n",
      "Prostate: \n",
      "Số lượng cây:  10\n",
      "Độ chính xác của Random Forest:  0.9354838709677419\n",
      "Thời gian chạy:  0:00:00.106932\n",
      "Số lượng cây:  100\n",
      "Độ chính xác của Random Forest:  0.9032258064516129\n",
      "Thời gian chạy:  0:00:00.331295\n",
      "Số lượng cây:  200\n",
      "Độ chính xác của Random Forest:  0.967741935483871\n",
      "Thời gian chạy:  0:00:00.588625\n",
      "Số lượng cây:  500\n",
      "Độ chính xác của Random Forest:  0.967741935483871\n",
      "Thời gian chạy:  0:00:01.372881\n",
      "Số lượng cây:  1000\n",
      "Độ chính xác của Random Forest:  0.967741935483871\n",
      "Thời gian chạy:  0:00:02.643075\n"
     ]
    }
   ],
   "source": [
    "Tree_nums = [10, 100, 200, 500, 1000]\n",
    "print(\"Wine.csv: \")\n",
    "for n in Tree_nums:\n",
    "    RandomForest(df1, n)\n",
    "print(\"Brain.csv: \")\n",
    "for n in Tree_nums:\n",
    "    RandomForest(df2, n)\n",
    "print(\"Prostate: \")\n",
    "for n in Tree_nums:\n",
    "    RandomForest(df3, n)"
   ]
  },
  {
   "cell_type": "code",
   "execution_count": 11,
   "id": "abce343d",
   "metadata": {},
   "outputs": [
    {
     "data": {
      "image/png": "[encoded data removed]",
      "text/plain": [
       "<Figure size 640x480 with 1 Axes>"
      ]
     },
     "metadata": {},
     "output_type": "display_data"
    }
   ],
   "source": [
    "import matplotlib.pyplot as plt\n",
    "import numpy as np\n",
    "\n",
    "num_trees = [10, 100, 200, 500, 1000]\n",
    "\n",
    "accuracy = {'Wine': [0.98, 1, 1, 1, 1],\n",
    "            'Brain': [0.54, 0.77, 0.77, 0.77, 0.77],\n",
    "            'Prostate': [0.84, 0.93, 0.97, 0.97, 0.97]}\n",
    "\n",
    "N = len(num_trees)\n",
    "width = 0.2\n",
    "ind = np.arange(N)\n",
    "\n",
    "fig, ax = plt.subplots()\n",
    "rects1 = ax.bar(ind, accuracy['Wine'], width, color='slategrey')\n",
    "rects2 = ax.bar(ind+width, accuracy['Brain'], width, color='lightsteelblue')\n",
    "rects3 = ax.bar(ind+2*width, accuracy['Prostate'], width, color='cornflowerblue')\n",
    "\n",
    "ax.set_ylabel('Accuracy')\n",
    "ax.set_xlabel('Number of Trees')\n",
    "ax.set_xticks(ind+width)\n",
    "ax.set_xticklabels(num_trees)\n",
    "\n",
    "ax.legend((rects1[0], rects2[0], rects3[0]), ('Wine', 'Brain', 'Prostate'), loc = 'upper left', bbox_to_anchor=(1.05, 1))\n",
    "plt.show()"
   ]
  },
  {
   "cell_type": "code",
   "execution_count": 13,
   "id": "ad7aad83",
   "metadata": {},
   "outputs": [],
   "source": [
    "# accuracy_score list\n",
    "acc_DT =list()\n",
    "acc_RF= list()\n",
    "\n",
    "# time \n",
    "time_DT =list()\n",
    "time_RF =list()"
   ]
  },
  {
   "cell_type": "code",
   "execution_count": 15,
   "id": "e64018a4",
   "metadata": {},
   "outputs": [],
   "source": [
    "def Compare(df, n):\n",
    "    X = df.iloc[:,df.columns !='class']\n",
    "    r, c = df.shape\n",
    "    y = df[['class']]\n",
    "    for i in range (100):\n",
    "        Train_x, Test_x, Train_y, Test_y = train_test_split(X,  y, \n",
    "                                                            stratify=y, \n",
    "                                                            test_size=0.3, \n",
    "                                                            #random_state = 42)\n",
    "                                                            random_state = random.randint(0,100000))\n",
    "        # Decision Tree Algorithm\n",
    "        start = datetime.now()\n",
    "        model = DecisionTreeClassifier()\n",
    "        model.fit(Train_x, Train_y)        \n",
    "        y_pred = model.predict(Test_x)\n",
    "        end = datetime.now() - start\n",
    "    \n",
    "        time_DT.append(end)\n",
    "        acc = metrics.accuracy_score(Test_y, y_pred)\n",
    "        acc_DT.append(acc)\n",
    "    \n",
    "        # Random Forest Classifier Algorithm\n",
    "        start = datetime.now()\n",
    "        rf_model = RandomForestClassifier(n_estimators=n, max_features= int(math.sqrt(c))+1)\n",
    "        rf_model.fit(Train_x,Train_y.values.ravel())\n",
    "        y_pred = rf_model.predict(Test_x)\n",
    "        end = datetime.now() - start\n",
    "\n",
    "        time_RF.append(end)    \n",
    "        acc_RF.append(metrics.accuracy_score(Test_y, y_pred))  "
   ]
  },
  {
   "cell_type": "code",
   "execution_count": 16,
   "id": "29a59d06",
   "metadata": {},
   "outputs": [],
   "source": [
    "Compare(df3, 200)"
   ]
  },
  {
   "cell_type": "code",
   "execution_count": 18,
   "id": "528902ea",
   "metadata": {},
   "outputs": [
    {
     "name": "stdout",
     "output_type": "stream",
     "text": [
      "Decision Tree\n",
      "  Độ chính xác trung bình: 0.83\n",
      "  Độ lệch chuẩn: 0.06\n",
      "Random Forest\n",
      "  Độ chính xác trung bình: 0.89\n",
      "  Độ lệch chuẩn: 0.05\n",
      "Time\n",
      "  Decision Tree:  0:00:00.148515\n",
      "  Random Forest:  0:00:00.623432\n"
     ]
    }
   ],
   "source": [
    "# Decision Tree\n",
    "print(\"Decision Tree\")\n",
    "print(\"  Độ chính xác trung bình: {:.2f}\".format(np.mean(acc_DT)))\n",
    "print(\"  Độ lệch chuẩn: {:.2f}\".format(np.std(acc_DT)))\n",
    "\n",
    "# Random Forest\n",
    "print(\"Random Forest\")\n",
    "print(\"  Độ chính xác trung bình: {:.2f}\".format(np.mean(acc_RF)))\n",
    "print(\"  Độ lệch chuẩn: {:.2f}\".format(np.std(acc_RF)))\n",
    "\n",
    "# Time\n",
    "print(\"Time\")\n",
    "print(\"  Decision Tree: \", np.mean(time_DT))\n",
    "print(\"  Random Forest: \", np.mean(time_RF))"
   ]
  },
  {
   "cell_type": "code",
   "execution_count": 20,
   "id": "5ed18285",
   "metadata": {},
   "outputs": [
    {
     "data": {
      "text/plain": [
       "Text(0, 0.5, 'Accuracy')"
      ]
     },
     "execution_count": 20,
     "metadata": {},
     "output_type": "execute_result"
    },
    {
     "data": {
      "image/png": "[encoded data removed]",
      "text/plain": [
       "<Figure size 640x480 with 1 Axes>"
      ]
     },
     "metadata": {},
     "output_type": "display_data"
    }
   ],
   "source": [
    "results =[]\n",
    "results.append(acc_DT)\n",
    "results.append(acc_RF)\n",
    "\n",
    "names = ('Decision tree', 'Random forest')\n",
    "fig = plt.figure()\n",
    "fig.suptitle('Algorithm Comparison')\n",
    "plt.boxplot(results, labels=names)\n",
    "plt.ylabel('Accuracy') "
   ]
  },
  {
   "cell_type": "code",
   "execution_count": null,
   "id": "dd4d9c3a",
   "metadata": {},
   "outputs": [],
   "source": []
  },
  {
   "cell_type": "code",
   "execution_count": null,
   "id": "4d47da31",
   "metadata": {},
   "outputs": [],
   "source": []
  },
  {
   "cell_type": "code",
   "execution_count": null,
   "id": "9afc18e1",
   "metadata": {},
   "outputs": [],
   "source": []
  }
 ],
 "metadata": {
  "kernelspec": {
   "display_name": "Python 3 (ipykernel)",
   "language": "python",
   "name": "python3"
  },
  "language_info": {
   "codemirror_mode": {
    "name": "ipython",
    "version": 3
   },
   "file_extension": ".py",
   "mimetype": "text/x-python",
   "name": "python",
   "nbconvert_exporter": "python",
   "pygments_lexer": "ipython3",
   "version": "3.10.9"
  }
 },
 "nbformat": 4,
 "nbformat_minor": 5
}
